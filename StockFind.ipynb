{
 "cells": [
  {
   "cell_type": "code",
   "execution_count": 1,
   "metadata": {},
   "outputs": [],
   "source": [
    "import win32com.client\n",
    "import ctypes\n",
    "import numpy as np\n",
    "import time"
   ]
  },
  {
   "cell_type": "code",
   "execution_count": 2,
   "metadata": {},
   "outputs": [
    {
     "name": "stdout",
     "output_type": "stream",
     "text": [
      "정상: 관리자권한으로 실행된 프로세스입니다.\n",
      "Creon Plus가 연결되었습니다.\n"
     ]
    }
   ],
   "source": [
    "if ctypes.windll.shell32.IsUserAnAdmin():\n",
    "        print('정상: 관리자권한으로 실행된 프로세스입니다.')\n",
    "else:\n",
    "        print('오류: 일반권한으로 실행됨. 관리자 권한으로 실행해 주세요')\n",
    "\n",
    "if win32com.client.Dispatch(\"CpUtil.CpCybos\").IsConnect == 1:\n",
    "        print('Creon Plus가 연결되었습니다.')\n",
    "else:\n",
    "        print('Creon Plus가 연결되지 않았습니다.')"
   ]
  },
  {
   "cell_type": "code",
   "execution_count": 3,
   "metadata": {},
   "outputs": [],
   "source": [
    "objCpCodeMgr = win32com.client.Dispatch(\"CpUtil.CpCodeMgr\")\n",
    "KospiCodeList = objCpCodeMgr.GetStockListByMarket(1)\n",
    "\n",
    "instMarketEye = win32com.client.Dispatch(\"CpSysDib.MarketEye\")\n"
   ]
  },
  {
   "cell_type": "code",
   "execution_count": 4,
   "metadata": {},
   "outputs": [],
   "source": [
    "def getScoreN(N,invest) :\n",
    "    \n",
    "    StockData = np.matrix(['Code', 'Name', '1/PER', 'ROA', '1/PBR', '1/PSR', 'GP/A', '1/(EV/EBIT)'])\n",
    "\n",
    "    for i in range(len(KospiCodeList)):\n",
    "        instMarketEye.SetInputValue(0, (5, 17, 20, 23, 67, 71, 75, 76, 77, 86, 88, 91))\n",
    "        instMarketEye.SetInputValue(1, KospiCodeList[i])\n",
    "        instMarketEye.BlockRequest()\n",
    "        Code = KospiCodeList[i]                            # 종목코드\n",
    "        OpP = instMarketEye.GetDataValue(0, 0)             # 시가\n",
    "        Name = instMarketEye.GetDataValue(1, 0)            # 종목명\n",
    "        StNum = instMarketEye.GetDataValue(2, 0)           # 상장주식수                              \n",
    "        ClP = instMarketEye.GetDataValue(3, 0)             # 전일종가                                   \n",
    "        PER = instMarketEye.GetDataValue(4, 0)             # PER\n",
    "        CapSt = instMarketEye.GetDataValue(5, 0)           # 자본금\n",
    "        DebtRat = instMarketEye.GetDataValue(6, 0)*0.01    # 부채비율\n",
    "        ResRat = instMarketEye.GetDataValue(7, 0)*0.01     # 유보율\n",
    "        ROE = instMarketEye.GetDataValue(8, 0)*0.01        # 자기자본이익률(ROE)\n",
    "        SaleAcc = instMarketEye.GetDataValue(9, 0)         # 매출액\n",
    "        NetInc = instMarketEye.GetDataValue(10, 0)         # 당기순이익\n",
    "        OpProf = instMarketEye.GetDataValue(11, 0)         # 영업이익\n",
    "    \n",
    "        \n",
    "        fStNum = float(StNum)                                   \n",
    "        fClP = float(ClP)\n",
    "        fCapSt = float(CapSt)*1000000\n",
    "        fSaleAcc = float(SaleAcc)*1000000\n",
    "        fNetInc = float(NetInc)\n",
    "        fOpProf = float(OpProf)                                   \n",
    "        fOpP = float(OpP)\n",
    "        \n",
    "    \n",
    "        if objCpCodeMgr.IsBigListingStock(Code) :\n",
    "            fStNum = fStNum*1000\n",
    "            \n",
    "        if fClP == 0:\n",
    "            fClP = fOpP    # 종가 데이터가 없을 시 시가로 변환    \n",
    "        \n",
    "        if fNetInc*ROE*PER == 0 or DebtRat>=0.5 :\n",
    "            pass\n",
    "        else :\n",
    "            PSR = fSaleAcc/(fStNum*fClP)\n",
    "            PBR = fNetInc/(fStNum*fClP*ROE)\n",
    "            ROA = ROE/(DebtRat+1)*100\n",
    "            EV =  fStNum*fClP+fNetInc*DebtRat/ROE-ResRat*fCapSt\n",
    "            \n",
    "            if PSR < 0.2 or PBR <0.2 :\n",
    "                pass\n",
    "            else :\n",
    "                rPSR = 1/PSR\n",
    "                GPA = fOpProf*ROE/(fNetInc*(DebtRat+1))\n",
    "                rPBR = 1/PBR\n",
    "                GPA = fOpProf*ROE/(fNetInc*(DebtRat+1))\n",
    "                rEVEBIT = fOpProf/EV\n",
    "                           \n",
    "                result = np.matrix([Code, Name,1/PER, ROA, rPBR, rPSR, GPA, rEVEBIT])\n",
    "                StockData = np.vstack((StockData,result))\n",
    "                #global Stock_data\n",
    "                #Stock_data = StockData\n",
    "                           \n",
    "        time.sleep(0.25)\n",
    "        \n",
    "        tscore = np.matrix(np.zeros(len(StockData)-1)).T\n",
    "\n",
    "    for i in range(6):\n",
    "        data = StockData[1:,i+2].astype(np.float)\n",
    "        datamean = np.mean(data)\n",
    "        datastd = np.std(data)\n",
    "        dataz = (data-datamean)/datastd\n",
    "        datat = (dataz*10+50)/6\n",
    "    \n",
    "        tscore = np.add(datat,tscore).astype(np.float)\n",
    "    \n",
    "    score = np.hstack((StockData[1:,0],StockData[1:,1],tscore))\n",
    "\n",
    "    tssort = np.sort(tscore,axis=0)[::-1]\n",
    "    tssortN1 = tssort[N]\n",
    "    rangeN = tscore>tssortN1\n",
    "\n",
    "    code = StockData[1:,0]\n",
    "    name = StockData[1:,1]\n",
    "\n",
    "    tscoreN = tscore[rangeN].T\n",
    "    codeN = code[rangeN].T\n",
    "    nameN = name[rangeN].T\n",
    "    \n",
    "    tNsum = np.sum(tscoreN)\n",
    "    tNratio = tscoreN/tNsum\n",
    "    \n",
    "    \n",
    "    scoreN = np.hstack((codeN,nameN,tscoreN,tNratio*invest))\n",
    "    #global ScoreN\n",
    "    #ScoreN = scoreN\n",
    "    print(scoreN)"
   ]
  },
  {
   "cell_type": "code",
   "execution_count": 5,
   "metadata": {},
   "outputs": [
    {
     "name": "stdout",
     "output_type": "stream",
     "text": [
      "[['A000660' 'SK하이닉스' '70.4442041497052' '5.788603378842181']\n",
      " ['A002960' '한국쉘석유' '64.73093589493806' '5.319127652301302']\n",
      " ['A004450' '삼화왕관' '60.1014934163714' '4.938713014971644']\n",
      " ['A005500' '삼진제약' '61.4338545142743' '5.04819696821169']\n",
      " ['A005930' '삼성전자' '58.23698630335036' '4.785501089241428']\n",
      " ['A006650' '대한유화' '59.97972351085185' '4.928706830715041']\n",
      " ['A007700' 'F&F' '64.2392815607856' '5.278726997992693']\n",
      " ['A012750' '에스원' '57.371583602016386' '4.714388453908716']\n",
      " ['A020150' '일진머티리얼즈' '61.5818424237359' '5.060357561451082']\n",
      " ['A033780' 'KT&G' '58.42328942854033' '4.800810154238055']\n",
      " ['A035250' '강원랜드' '60.210797253608504' '4.947694826451926']\n",
      " ['A042700' '한미반도체' '56.610129684944496' '4.651817589912188']\n",
      " ['A057050' '현대홈쇼핑' '56.187481389088816' '4.617087360747376']\n",
      " ['A069260' '휴켐스' '58.34053748122146' '4.794010188113974']\n",
      " ['A078000' '텔코웨어' '55.925394914432594' '4.595550959405972']\n",
      " ['A114090' 'GKL' '59.94976250594415' '4.926244848550068']\n",
      " ['A120030' '조선선재' '57.50663885258191' '4.725486333275663']\n",
      " ['A134380' '미원화학' '55.89485865408026' '4.593041706842381']\n",
      " ['A192400' '쿠쿠홀딩스' '80.6967959602199' '6.631088410969318']\n",
      " ['A251270' '넷마블' '59.08087277399908' '4.854845673857291']]\n"
     ]
    }
   ],
   "source": [
    "#getScoreN(5,20)       # 실제\n",
    "getScoreN(20,100)     # 모의"
   ]
  },
  {
   "cell_type": "code",
   "execution_count": null,
   "metadata": {},
   "outputs": [],
   "source": []
  }
 ],
 "metadata": {
  "kernelspec": {
   "display_name": "Python 3",
   "language": "python",
   "name": "python3"
  },
  "language_info": {
   "codemirror_mode": {
    "name": "ipython",
    "version": 3
   },
   "file_extension": ".py",
   "mimetype": "text/x-python",
   "name": "python",
   "nbconvert_exporter": "python",
   "pygments_lexer": "ipython3",
   "version": "3.7.1"
  }
 },
 "nbformat": 4,
 "nbformat_minor": 2
}
