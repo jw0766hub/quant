{
 "cells": [
  {
   "cell_type": "code",
   "execution_count": 5,
   "metadata": {},
   "outputs": [
    {
     "name": "stderr",
     "output_type": "stream",
     "text": [
      "Warning message:\n",
      "\"package 'depmixS4' was built under R version 3.5.2\"Loading required package: nnet\n",
      "Loading required package: MASS\n",
      "Loading required package: Rsolnp\n",
      "Warning message:\n",
      "\"package 'Rsolnp' was built under R version 3.5.2\""
     ]
    }
   ],
   "source": [
    "library('quantmod')\n",
    "library('xts')\n",
    "library('ggplot2')\n",
    "library('tseries')\n",
    "library('depmixS4')\n",
    "set.seed(1)"
   ]
  },
  {
   "cell_type": "code",
   "execution_count": 6,
   "metadata": {},
   "outputs": [
    {
     "name": "stderr",
     "output_type": "stream",
     "text": [
      "'getSymbols' currently uses auto.assign=TRUE by default, but will\n",
      "use auto.assign=FALSE in 0.5-0. You will still be able to use\n",
      "'loadSymbols' to automatically load data. getOption(\"getSymbols.env\")\n",
      "and getOption(\"getSymbols.auto.assign\") will still be checked for\n",
      "alternate defaults.\n",
      "\n",
      "This message is shown once per session and may be disabled by setting \n",
      "options(\"getSymbols.warning4.0\"=FALSE). See ?getSymbols for details.\n",
      "\n",
      "\n",
      "WARNING: There have been significant changes to Yahoo Finance data.\n",
      "Please see the Warning section of '?getSymbols.yahoo' for details.\n",
      "\n",
      "This message is shown once per session and may be disabled by setting\n",
      "options(\"getSymbols.yahoo.warning\"=FALSE).\n"
     ]
    },
    {
     "data": {
      "text/html": [
       "'GSPC'"
      ],
      "text/latex": [
       "'GSPC'"
      ],
      "text/markdown": [
       "'GSPC'"
      ],
      "text/plain": [
       "[1] \"GSPC\""
      ]
     },
     "metadata": {},
     "output_type": "display_data"
    },
    {
     "name": "stderr",
     "output_type": "stream",
     "text": [
      "Warning message:\n",
      "\"^KS11 contains missing values. Some functions will not work if objects contain missing values in the middle of the series. Consider using na.omit(), na.approx(), na.fill(), etc to remove or replace them.\""
     ]
    },
    {
     "data": {
      "text/html": [
       "'KS11'"
      ],
      "text/latex": [
       "'KS11'"
      ],
      "text/markdown": [
       "'KS11'"
      ],
      "text/plain": [
       "[1] \"KS11\""
      ]
     },
     "metadata": {},
     "output_type": "display_data"
    }
   ],
   "source": [
    "getSymbols(\"^GSPC\", from = \"2015-01-01\" , to = as.character(Sys.Date()))\n",
    "GSPC <- na.omit(GSPC)\n",
    "\n",
    "getSymbols(\"^KS11\", from = \"2015-01-01\" , to = as.character(Sys.Date()))\n",
    "KS11 <-na.omit(KS11)"
   ]
  },
  {
   "cell_type": "code",
   "execution_count": 7,
   "metadata": {},
   "outputs": [],
   "source": [
    "getPeriod <- function(symbol,e_date,s_date,type){\n",
    "    e_daten <- as.numeric(as.Date(e_date))\n",
    "    s_daten <- as.numeric(as.Date(s_date))\n",
    "    period <- e_daten:s_daten\n",
    "    \n",
    "    Isymbol <- index(type(symbol))\n",
    "    Dsymbol <- coredata(type(symbol))\n",
    "    Isymboln <- as.numeric(Isymbol)\n",
    "    Date <- c()\n",
    "    Price <- c()\n",
    "    \n",
    "    for (i in 1:length(period)){\n",
    "        n <- which(Isymboln == period[i])\n",
    "        Date <- c(Date, Isymboln[n])\n",
    "        Price <- c(Price, Dsymbol[n])\n",
    "        \n",
    "    }\n",
    "    return(cbind(Date,Price))\n",
    "}\n",
    "\n",
    "getPairPeriod <- function(A,B){\n",
    "    result <- c()\n",
    "    \n",
    "    for (i in 1:length(A[,1])){\n",
    "        n <- which(A[i,1]== B[,1])\n",
    "        \n",
    "        if (any(n>0)){\n",
    "            Date <- B[n,1]\n",
    "            PriceA <- A[i,2]\n",
    "            PriceB <- B[n,2]\n",
    "            result <- rbind(result, c(Date, PriceA, PriceB))\n",
    "        }\n",
    "    }\n",
    "    return(result)\n",
    "    \n",
    "}\n",
    "\n",
    "getSRB <- function(A,B){\n",
    "    Pair <- getPairPeriod(A,B)\n",
    "    \n",
    "    logA <- log(Pair[,2])\n",
    "    logB <- log(Pair[,3])\n",
    "    VarB <- var(logB)\n",
    "    CovAB <- cov(logA,logB)\n",
    "    result <- CovAB/VarB\n",
    "    return(result)\n",
    "}\n",
    "\n",
    "getCC <- function(A,B){\n",
    "    Pair <- getPairPeriod(A,B)\n",
    "    logA <- log((Pair[,2]))\n",
    "    logB <- log((Pair[,3]))\n",
    "    \n",
    "    result <- c()\n",
    "    \n",
    "    for (i in 1:2000*0.001){\n",
    "        test <- adf.test(logA-i*logB)\n",
    "        result <- rbind(result,c(test$p.value,i))    \n",
    "    }\n",
    "    n <- which(result[,1] == min(result[,1]))\n",
    "    #result$p.value <- result[n,1]\n",
    "    resultg <- result[n,2]\n",
    "    return(resultg)\n",
    "}\n",
    "\n",
    "getSpread <- function(A,B,type){\n",
    "    Pair <- getPairPeriod(A,B)\n",
    "    NPIA <- (Pair[,2]-mean(Pair[,2]))/sd(Pair[,2])\n",
    "    NPIB <- (Pair[,3]-mean(Pair[,3]))/sd(Pair[,3])\n",
    "    h <- type(A,B)\n",
    "    result <- NPIA-h*NPIB\n",
    "    return(result)\n",
    "}\n",
    "\n",
    "getSpreadPlot <- function(A,B,type){\n",
    "    s <- getSpread(A,B,type)\n",
    "    beta <- type(A,B)\n",
    "    ADF <- adf.test(s)\n",
    "    pv <- ADF$p.value\n",
    "    Pair <- getPairPeriod(A,B)\n",
    "    date <- as.Date(Pair[,1])\n",
    "    upper <- rep(1.5*sd(s),length(s))\n",
    "    lower <- rep(-1.5*sd(s), length(s))\n",
    "    Spread <- xts(s, order.by = date)\n",
    "    \n",
    "    ggplot(Spread, aes(x=date,y=s))+geom_line(color=\"blue\")+ggtitle(\"Spread Chart\", subtitle = as.character(beta))+\n",
    "    xlab(as.character(pv))+    ylab(\"\")+geom_hline(yintercept=0,color = \"green\")+geom_hline(yintercept = upper, color = \"red\")+\n",
    "    geom_hline(yintercept = lower, color = \"red\")#+ coord_fixed(ratio = 150)\n",
    "    \n",
    "    \n",
    "}\n",
    "\n",
    "getHMM <- function(A,n){\n",
    "    data <- A[,2]\n",
    "    returns <- diff(log(data))\n",
    "    hmm <- depmix(returns ~1, family = gaussian(), nstates = n, data = data.frame(returns=returns))\n",
    "    hmmfit <- fit(hmm, verbose = FALSE, emc=em.control(random.start=TRUE))\n",
    "    post_probs <- posterior(hmmfit)\n",
    "    \n",
    "    Data <- post_probs[-1]\n",
    "    d <- A[,1]\n",
    "    dd <- d[2:length(d)]\n",
    "    date <- as.Date(dd)\n",
    "    \n",
    "    TS <- xts(Data, order.by = date)\n",
    "    \n",
    "    \n",
    "    #ggplot(TS, aes(x=date,y=S1, colour = S2))+geom_line()+ggtitle(\"Spread Chart\", subtitle = \"\")+xlab(\"\")+\n",
    "    #ylab(\"\")\n",
    "    \n",
    "    layout(1:2)\n",
    "    matplot(Data, type = \"l\", main = \"Regime Posterior Probabilities(Full)\", ylab = \"\")\n",
    "    legend(x = \"bottomleft\", c(\"State1\",\"State2\"), fill = 1:2, bty = n)\n",
    "    matplot(Data[90:length(Data[,1]),], type = \"l\", main = \"Regime Posterior Probabilities(Recent)\", ylab = \"\")\n",
    "    legend(x = \"bottomleft\", c(\"State1\",\"State2\"), fill = 1:3, bty = n)\n",
    "    \n",
    "    summary(hmmfit, which=\"response\")\n",
    "    print(post_probs[length(post_probs[,1]),])\n",
    "    \n",
    "    \n",
    "}\n",
    "\n",
    "getChart <- function(A){\n",
    "    data <- A[,2]\n",
    "    date <- as.Date(A[,1])\n",
    "    TS <- xts(data, order.by = date)\n",
    "    layout(1:2)\n",
    "    ggplot(TS, aes(x=date,y=data))+geom_line(color=\"blue\")+ggtitle(\"KOSPI\", subtitle = \"\")+xlab(\"\")+\n",
    "    ylab(\"\")\n",
    "    \n",
    "}"
   ]
  },
  {
   "cell_type": "code",
   "execution_count": 8,
   "metadata": {},
   "outputs": [],
   "source": [
    "snp = getPeriod(GSPC,as.character(Sys.Date()-180),as.character(Sys.Date()-1),Cl)\n",
    "\n",
    "kospi = getPeriod(KS11,as.character(Sys.Date()-180),as.character(Sys.Date()-1),Cl)"
   ]
  },
  {
   "cell_type": "code",
   "execution_count": 11,
   "metadata": {
    "scrolled": false,
    "slideshow": {
     "slide_type": "-"
    }
   },
   "outputs": [
    {
     "name": "stdout",
     "output_type": "stream",
     "text": [
      "converged at iteration 90 with logLik: 380.6366 \n",
      "Response parameters \n",
      "Resp 1 : gaussian \n",
      "    Re1.(Intercept) Re1.sd\n",
      "St1           0.001  0.007\n",
      "St2          -0.005  0.015\n",
      "    state        S1        S2\n",
      "116     1 0.9832008 0.0167992\n"
     ]
    },
    {
     "data": {},
     "metadata": {},
     "output_type": "display_data"
    },
    {
     "data": {
      "image/png": "[encoded data removed]",
      "text/plain": [
       "Plot with title \"Regime Posterior Probabilities(Recent)\""
      ]
     },
     "metadata": {},
     "output_type": "display_data"
    },
    {
     "data": {},
     "metadata": {},
     "output_type": "display_data"
    },
    {
     "data": {
      "image/png": "[encoded data removed]",
      "text/plain": [
       "plot without title"
      ]
     },
     "metadata": {},
     "output_type": "display_data"
    },
    {
     "data": {
      "image/png": "[encoded data removed]",
      "text/plain": [
       "plot without title"
      ]
     },
     "metadata": {},
     "output_type": "display_data"
    }
   ],
   "source": [
    "#getChart(kospi)\n",
    "\n",
    "getHMM(kospi,2)\n",
    "getSpreadPlot(kospi,snp,getSRB)\n",
    "getSpreadPlot(kospi,snp,getCC)"
   ]
  },
  {
   "cell_type": "code",
   "execution_count": null,
   "metadata": {},
   "outputs": [],
   "source": []
  }
 ],
 "metadata": {
  "kernelspec": {
   "display_name": "R",
   "language": "R",
   "name": "ir"
  },
  "language_info": {
   "codemirror_mode": "r",
   "file_extension": ".r",
   "mimetype": "text/x-r-source",
   "name": "R",
   "pygments_lexer": "r",
   "version": "3.5.1"
  }
 },
 "nbformat": 4,
 "nbformat_minor": 2
}
