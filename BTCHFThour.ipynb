{
 "cells": [
  {
   "cell_type": "code",
   "execution_count": 1,
   "metadata": {},
   "outputs": [
    {
     "name": "stderr",
     "output_type": "stream",
     "text": [
      "Warning message:\n",
      "\"package 'xts' was built under R version 3.4.4\"Loading required package: zoo\n",
      "\n",
      "Attaching package: 'zoo'\n",
      "\n",
      "The following objects are masked from 'package:base':\n",
      "\n",
      "    as.Date, as.Date.numeric\n",
      "\n",
      "Warning message:\n",
      "\"package 'ggplot2' was built under R version 3.4.4\"Warning message:\n",
      "\"package 'tseries' was built under R version 3.4.4\"Warning message:\n",
      "\"package 'gridExtra' was built under R version 3.4.4\"Warning message:\n",
      "\"package 'pinbasic' was built under R version 3.4.4\""
     ]
    }
   ],
   "source": [
    "library('xts')\n",
    "library('ggplot2')\n",
    "library('tseries')\n",
    "#library('depmixS4')\n",
    "library('gridExtra')\n",
    "library('pinbasic')\n",
    "set.seed(1)"
   ]
  },
  {
   "cell_type": "code",
   "execution_count": 4,
   "metadata": {},
   "outputs": [],
   "source": [
    "setwd('C:/Users/JEONG/Desktop/Trading')"
   ]
  },
  {
   "cell_type": "code",
   "execution_count": 6,
   "metadata": {},
   "outputs": [],
   "source": [
    "BTCdata <- read.csv('BTCHdata2.csv')"
   ]
  },
  {
   "cell_type": "code",
   "execution_count": 7,
   "metadata": {},
   "outputs": [],
   "source": [
    "time <- as.POSIXct(BTCdata$date,format = \"%Y. %m. %d %H:%M:%S\")\n",
    "BTCDATA <- xts(BTCdata[,2:7],order.by=time)"
   ]
  },
  {
   "cell_type": "code",
   "execution_count": 8,
   "metadata": {},
   "outputs": [],
   "source": [
    "BTCDATA$dP = diff(BTCDATA[,1])"
   ]
  },
  {
   "cell_type": "code",
   "execution_count": 9,
   "metadata": {},
   "outputs": [],
   "source": [
    "BTCDATA$dPsd = NA\n",
    "BTCDATA$k = NA\n",
    "BTCDATA$bk = NA\n",
    "BTCDATA$sk = NA\n",
    "for (i in 1:length(BTCDATA[,1])){\n",
    "    if (i>=81){\n",
    "        #BTCDATA$dPsd[i] <- sd(BTCDATA$dP[(i-79):i])\n",
    "        #BTCDATA$k[i] <- (log(sum(BTCDATA$volumeto[(i-2):i])))/sum((BTCDATA$dP[(i-2):i]))\n",
    "        BTCDATA$k[i] <- (log(BTCDATA$volumeto[i]))/abs(BTCDATA$dP[i])\n",
    "        #BTCDATA$bk[i] <- (log(BTCDATA$Buy[i]))/abs(BTCDATA$dP)\n",
    "        #BTCDATA$sk[i] <- (log(BTCDATA$Sell[i]))/abs(BTCDATA$dP)\n",
    "        BTCDATA$dPsd[i] <- sd(na.omit(BTCDATA$dP))\n",
    "    }\n",
    "}    "
   ]
  },
  {
   "cell_type": "code",
   "execution_count": 10,
   "metadata": {},
   "outputs": [],
   "source": [
    "BTCDATA$Buy = NA\n",
    "BTCDATA$Sell = NA\n",
    "for (i in 1:length(BTCDATA[,1])){\n",
    "    if (i>=81){ \n",
    "        if (as.integer(BTCDATA$volumeto[i]*pnorm(BTCDATA$dP[i]/BTCDATA$dPsd[i])/10000000) == 0){\n",
    "            BTCDATA$Buy[i] <- 1\n",
    "        }else {\n",
    "            BTCDATA$Buy[i] <- abs(as.integer(BTCDATA$volumeto[i]*pnorm(BTCDATA$dP[i]/BTCDATA$dPsd[i])/10000000))\n",
    "        }\n",
    "    }\n",
    "}\n",
    "\n",
    "for (i in 1:length(BTCDATA[,1])){\n",
    "    if (i>=81){\n",
    "        if (as.integer((BTCDATA$volumeto[i]/10000000-BTCDATA$Buy[i]))==0){\n",
    "            BTCDATA$Sell[i] <- 1\n",
    "        }else{\n",
    "            BTCDATA$Sell[i] <- abs(as.integer((BTCDATA$volumeto[i]/10000000-BTCDATA$Buy[i])))\n",
    "        }\n",
    "    }\n",
    "}"
   ]
  },
  {
   "cell_type": "code",
   "execution_count": 11,
   "metadata": {},
   "outputs": [],
   "source": [
    "for (i in 1:length(BTCDATA[,1])){\n",
    "    if (i>=81){\n",
    "        #BTCDATA$dPsd[i] <- sd(BTCDATA$dP[(i-79):i])\n",
    "        #BTCDATA$k[i] <- (log(sum(BTCDATA$volumeto[(i-2):i])))/sum((BTCDATA$dP[(i-2):i]))\n",
    "        #BTCDATA$k[i] <- (log(BTCDATA$volumeto[i]))/abs(BTCDATA$dP)\n",
    "        BTCDATA$bk[i] <- (log(BTCDATA$Buy[i]))/abs(BTCDATA$high[i]-BTCDATA$low[i])\n",
    "        BTCDATA$sk[i] <- (log(BTCDATA$Sell[i]))/abs(BTCDATA$low[i]-BTCDATA$high[i])\n",
    "        #BTCDATA$dPsd[i] <- sd(na.omit(BTCDATA$dP))\n",
    "    }\n",
    "}     "
   ]
  },
  {
   "cell_type": "code",
   "execution_count": 12,
   "metadata": {
    "scrolled": true
   },
   "outputs": [],
   "source": [
    "BTCDATA$alpha = NA\n",
    "BTCDATA$rdelta = NA\n",
    "BTCDATA$epsilon_b = NA\n",
    "BTCDATA$epsilon_s = NA\n",
    "BTCDATA$mu = NA\n",
    "BTCDATA$pin = NA\n",
    "\n",
    "for (i in 1:2001){\n",
    "    try(if (i>=160){\n",
    "        ipin <- pin_est(numbuys = BTCDATA$Buy[(i-80+1):i], numsells = BTCDATA$Sell[(i-80+1):i], posterior = FALSE)\n",
    "        \n",
    "        BTCDATA$alpha[i] <- ipin$Results[1,1]\n",
    "        BTCDATA$rdelta[i] <- (1-ipin$Results[2,1])\n",
    "        BTCDATA$epsilon_b[i] <- ipin$Results[3,1]\n",
    "        BTCDATA$epsilon_s[i] <- ipin$Results[4,1]\n",
    "        BTCDATA$mu[i] <- ipin$Results[5,1]\n",
    "        BTCDATA$pin[i] <- ipin$pin\n",
    "    })\n",
    "}"
   ]
  },
  {
   "cell_type": "code",
   "execution_count": 13,
   "metadata": {},
   "outputs": [],
   "source": [
    "BTCDATA$upp = NA\n",
    "BTCDATA$downp = NA\n",
    "\n",
    "for (i in 1:2001){\n",
    "    if (i>=160){\n",
    "        BTCDATA$upp[i] = 0.5+0.5*BTCDATA$alpha[i]*(-1+2*BTCDATA$rdelta[i])\n",
    "        BTCDATA$downp[i] = 1-BTCDATA$upp[i]\n",
    "    }\n",
    "}"
   ]
  },
  {
   "cell_type": "code",
   "execution_count": 14,
   "metadata": {},
   "outputs": [
    {
     "name": "stderr",
     "output_type": "stream",
     "text": [
      "Warning message:\n",
      "\"Removed 159 rows containing missing values (geom_path).\"Warning message:\n",
      "\"Removed 159 rows containing missing values (geom_path).\"Warning message:\n",
      "\"Removed 80 rows containing missing values (geom_path).\""
     ]
    },
    {
     "data": {
      "image/png": "[encoded data removed]",
      "text/plain": [
       "plot without title"
      ]
     },
     "metadata": {},
     "output_type": "display_data"
    }
   ],
   "source": [
    "p1 = ggplot(BTCDATA, aes(x=time,y=upp),colour = 'blue') + geom_line()\n",
    "p2 = ggplot(BTCDATA, aes(x=time,y=pin),colour = 'red') + geom_line()\n",
    "p3 = ggplot(BTCDATA, aes(x=time,y=close),colour = 'red') + geom_line()\n",
    "pk = ggplot(BTCDATA, aes(x=time,y=k))+geom_line()\n",
    "grid.arrange(p3,p1,p2,pk,ncol=1)"
   ]
  },
  {
   "cell_type": "code",
   "execution_count": 15,
   "metadata": {},
   "outputs": [],
   "source": [
    "mp = median(na.omit(BTCDATA$pin))\n",
    "mk = median(na.omit(BTCDATA$k))\n",
    "\n",
    "qk = (quantile(na.omit(BTCDATA$k)))\n",
    "qkk = as.numeric(qk[2])\n",
    "qkkk = as.numeric(qk[4])\n",
    "qp = (quantile(na.omit(BTCDATA$pin)))\n",
    "qpp = as.numeric(qp[4])"
   ]
  },
  {
   "cell_type": "code",
   "execution_count": 16,
   "metadata": {},
   "outputs": [
    {
     "name": "stdout",
     "output_type": "stream",
     "text": [
      "[1] 320\n",
      "[1] 629\n",
      "[1] 0.508744\n"
     ]
    }
   ],
   "source": [
    "s = 0\n",
    "n = 0\n",
    "for (i in 160:2000){\n",
    "    try(if (coredata(BTCDATA$upp[i])>0.5){\n",
    "        n = n+1\n",
    "    })\n",
    "    \n",
    "    try(if ((coredata(BTCDATA$close[(i+1)]) >= coredata(BTCDATA$close[i]))&&(coredata(BTCDATA$upp[i])> 0.5)){\n",
    "        s = s+1\n",
    "    })   \n",
    "}\n",
    "print(s)\n",
    "print(n)\n",
    "print(s/n)"
   ]
  },
  {
   "cell_type": "code",
   "execution_count": 17,
   "metadata": {},
   "outputs": [
    {
     "name": "stdout",
     "output_type": "stream",
     "text": [
      "[1] 594\n",
      "[1] 1195\n",
      "[1] 0.4970711\n"
     ]
    }
   ],
   "source": [
    "s = 0\n",
    "n = 0\n",
    "for (i in 160:2000){\n",
    "    try(if (coredata(BTCDATA$upp[i])<0.5){\n",
    "        n = n+1\n",
    "    })\n",
    "    \n",
    "    try(if ((coredata(BTCDATA$close[(i+1)]) <= coredata(BTCDATA$close[i]))&&(coredata(BTCDATA$upp[i])< 0.5)){\n",
    "        s = s+1\n",
    "    })   \n",
    "}\n",
    "print(s)\n",
    "print(n)\n",
    "print(s/n)"
   ]
  },
  {
   "cell_type": "code",
   "execution_count": 18,
   "metadata": {},
   "outputs": [],
   "source": [
    "mp = median(na.omit(BTCDATA$pin))\n",
    "mk = median(na.omit(BTCDATA$k))\n",
    "qk = (quantile(na.omit(BTCDATA$k)))\n",
    "qkk = as.numeric(qk[2])\n",
    "qpp = (quantile(na.omit(BTCDATA$pin)))\n",
    "qppp = as.numeric(qp[4])\n",
    "qpppp = as.numeric(qp[2])"
   ]
  },
  {
   "cell_type": "code",
   "execution_count": 27,
   "metadata": {},
   "outputs": [
    {
     "name": "stdout",
     "output_type": "stream",
     "text": [
      "[1] 25\n",
      "[1] 48\n",
      "[1] 0.5208333\n"
     ]
    }
   ],
   "source": [
    "s = 0\n",
    "n = 0\n",
    "for (i in 160:2000){\n",
    "    try(if ((coredata(BTCDATA$upp[i])>0.5)&&(coredata(BTCDATA$pin[i])<qppp)&&(coredata(BTCDATA$pin[i]>qpppp))\n",
    "           &&(coredata(BTCDATA$bk[i])<0.8*coredata(BTCDATA$sk[i]))){\n",
    "        n = n+1\n",
    "    })\n",
    "    \n",
    "    try(if ((coredata(BTCDATA$close[(i+1)]) >= coredata(BTCDATA$close[i]))&&(coredata(BTCDATA$pin[i]>qpppp))\n",
    "            &&(coredata(BTCDATA$upp[i])>0.5)\n",
    "            &&(coredata(BTCDATA$pin[i]<qppp)&&(coredata(BTCDATA$bk[i])<0.8*coredata(BTCDATA$sk[i])))){\n",
    "        s = s+1\n",
    "    })   \n",
    "}\n",
    "print(s)\n",
    "print(n)\n",
    "print(s/n)"
   ]
  },
  {
   "cell_type": "code",
   "execution_count": 20,
   "metadata": {},
   "outputs": [
    {
     "name": "stdout",
     "output_type": "stream",
     "text": [
      "[1] 40\n",
      "[1] 75\n",
      "[1] 0.5333333\n"
     ]
    }
   ],
   "source": [
    "s = 0\n",
    "n = 0\n",
    "for (i in 160:2000){\n",
    "    try(if ((coredata(BTCDATA$upp[i])>0.5)&&((coredata(BTCDATA$pin[i])<qpppp)||(coredata(BTCDATA$pin[i]>qppp)))\n",
    "           &&(0.8*coredata(BTCDATA$bk[i])>coredata(BTCDATA$sk[i]))){\n",
    "        n = n+1\n",
    "    })\n",
    "    \n",
    "    try(if ((coredata(BTCDATA$close[(i+1)]) <= coredata(BTCDATA$close[i]))&&(coredata(BTCDATA$upp[i])>0.5)\n",
    "            &&((coredata(BTCDATA$pin[i])<qpppp)||(coredata(BTCDATA$pin[i]>qppp)))\n",
    "            &&(0.8*coredata(BTCDATA$bk[i])>coredata(BTCDATA$sk[i]))){\n",
    "        s = s+1\n",
    "    })   \n",
    "}\n",
    "print(s)\n",
    "print(n)\n",
    "print(s/n)"
   ]
  },
  {
   "cell_type": "code",
   "execution_count": 33,
   "metadata": {},
   "outputs": [
    {
     "name": "stdout",
     "output_type": "stream",
     "text": [
      "[1] 53\n",
      "[1] 90\n",
      "[1] 0.5888889\n"
     ]
    }
   ],
   "source": [
    "s = 0\n",
    "n = 0\n",
    "for (i in 160:2000){\n",
    "    try(if ((coredata(BTCDATA$upp[i])<0.5)&&(coredata(BTCDATA$pin[i])<qppp)&&(coredata(BTCDATA$pin[i]>qpppp))\n",
    "           &&(0.8*coredata(BTCDATA$bk[i])>coredata(BTCDATA$sk[i]))){\n",
    "        n = n+1\n",
    "    })\n",
    "    \n",
    "    try(if ((coredata(BTCDATA$close[(i+1)]) <= coredata(BTCDATA$close[i]))&&(coredata(BTCDATA$upp[i])<0.5)\n",
    "            &&(coredata(BTCDATA$pin[i])<qppp)&&(coredata(BTCDATA$pin[i]>qpppp))\n",
    "            &&(0.8*coredata(BTCDATA$bk[i])>coredata(BTCDATA$sk[i]))){\n",
    "        s = s+1\n",
    "    })   \n",
    "}\n",
    "print(s)\n",
    "print(n)\n",
    "print(s/n)"
   ]
  },
  {
   "cell_type": "code",
   "execution_count": 34,
   "metadata": {},
   "outputs": [
    {
     "name": "stdout",
     "output_type": "stream",
     "text": [
      "[1] 49\n",
      "[1] 72\n",
      "[1] 0.6805556\n"
     ]
    }
   ],
   "source": [
    "s = 0\n",
    "n = 0\n",
    "for (i in 160:2000){\n",
    "    try(if ((coredata(BTCDATA$upp[i])<0.5)&&((coredata(BTCDATA$pin[i])<qpppp)||(coredata(BTCDATA$pin[i]>qppp)))\n",
    "           &&(coredata(BTCDATA$bk[i])<0.8*coredata(BTCDATA$sk[i]))){\n",
    "        n = n+1\n",
    "    })\n",
    "    \n",
    "    try(if ((coredata(BTCDATA$close[(i+1)]) >= coredata(BTCDATA$close[i]))&&(coredata(BTCDATA$upp[i])<0.5)\n",
    "            &&((coredata(BTCDATA$pin[i])<qpppp)||(coredata(BTCDATA$pin[i]>qppp)))\n",
    "            &&(coredata(BTCDATA$bk[i])<0.8*coredata(BTCDATA$sk[i]))){\n",
    "        s = s+1\n",
    "    })   \n",
    "}\n",
    "print(s)\n",
    "print(n)\n",
    "print(s/n)"
   ]
  },
  {
   "cell_type": "code",
   "execution_count": 35,
   "metadata": {},
   "outputs": [
    {
     "name": "stdout",
     "output_type": "stream",
     "text": [
      "package 'httr' successfully unpacked and MD5 sums checked\n",
      "\n",
      "The downloaded binary packages are in\n",
      "\tC:\\Users\\JEONG\\AppData\\Local\\Temp\\RtmpGqJfAj\\downloaded_packages\n"
     ]
    }
   ],
   "source": [
    "install.packages(\"\", repos='http://cran.r-project.org')"
   ]
  },
  {
   "cell_type": "code",
   "execution_count": null,
   "metadata": {},
   "outputs": [],
   "source": []
  }
 ],
 "metadata": {
  "kernelspec": {
   "display_name": "R",
   "language": "R",
   "name": "ir"
  },
  "language_info": {
   "codemirror_mode": "r",
   "file_extension": ".r",
   "mimetype": "text/x-r-source",
   "name": "R",
   "pygments_lexer": "r",
   "version": "3.5.1"
  }
 },
 "nbformat": 4,
 "nbformat_minor": 2
}
